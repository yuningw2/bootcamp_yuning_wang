{
 "cells": [
  {
   "cell_type": "markdown",
   "id": "29444887",
   "metadata": {},
   "source": [
    "# HW03 — Python Fundamentals: NumPy, pandas, and Functions"
   ]
  },
  {
   "cell_type": "code",
   "execution_count": null,
   "id": "e2c2a16d",
   "metadata": {},
   "outputs": [],
   "source": [
    "import os, sys, time\n",
    "import numpy as np\n",
    "import pandas as pd\n",
    "\n",
    "print(\"Python OK. Versions:\")\n",
    "print(\"numpy:\", np.__version__)\n",
    "print(\"pandas:\", pd.__version__)\n",
    "\n",
    "# Create an array\n",
    "arr = np.arange(1_000_000, dtype=np.float64)\n",
    "\n",
    "# Elementwise operations\n",
    "x = arr * 2 + 3\n",
    "y = np.sqrt(arr)\n",
    "\n",
    "# Compare loop vs vectorized\n",
    "def loop_double(a):\n",
    "    out = np.empty_like(a)\n",
    "    for i in range(a.size):\n",
    "        out[i] = a[i] * 2\n",
    "    return out\n",
    "\n",
    "start = time.perf_counter()\n",
    "_ = loop_double(arr)\n",
    "loop_time = time.perf_counter() - start\n",
    "\n",
    "start = time.perf_counter()\n",
    "_ = arr * 2\n",
    "vec_time = time.perf_counter() - start\n",
    "\n",
    "print(f\"Loop time: {loop_time:.4f}s | Vectorized time: {vec_time:.6f}s | Speedup: {loop_time/vec_time:.1f}x\")"
   ]
  }
 ],
 "metadata": {
  "kernelspec": {
   "display_name": "base",
   "language": "python",
   "name": "python3"
  },
  "language_info": {
   "codemirror_mode": {
    "name": "ipython",
    "version": 3
   },
   "file_extension": ".py",
   "mimetype": "text/x-python",
   "name": "python",
   "nbconvert_exporter": "python",
   "pygments_lexer": "ipython3",
   "version": "3.13.5"
  }
 },
 "nbformat": 4,
 "nbformat_minor": 5
}
