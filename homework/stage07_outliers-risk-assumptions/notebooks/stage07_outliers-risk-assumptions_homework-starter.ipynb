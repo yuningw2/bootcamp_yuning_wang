{
  "cells": [
    {
      "cell_type": "markdown",
      "id": "3848df1c",
      "metadata": {},
      "source": [
        "# Setup: Generate Sample Dataset\n",
        "\n",
        "This cell creates the required folder structure (`data/raw/` and `data/processed/`) relative to the notebook, and generates the sample CSV dataset with missing values. \n",
        "This ensures the dataset is ready for cleaning functions and saves it to `data/raw/outliers_homework.csv`."
      ]
    },
    {
      "cell_type": "code",
      "execution_count": 1,
      "id": "6c50b376",
      "metadata": {},
      "outputs": [
        {
          "name": "stdout",
          "output_type": "stream",
          "text": [
            "Synthetic dataset with two columns created and saved to ../data/raw\\outliers_homework.csv\n"
          ]
        }
      ],
      "source": [
        "import os\n",
        "import numpy as np\n",
        "import pandas as pd\n",
        "\n",
        "# Define folder paths relative to this notebook\n",
        "raw_dir = '../data/raw'\n",
        "processed_dir = '../data/processed'\n",
        "\n",
        "# Create folders if they don't exist\n",
        "os.makedirs(raw_dir, exist_ok=True)\n",
        "os.makedirs(processed_dir, exist_ok=True)\n",
        "\n",
        "# Generate business day dates\n",
        "dates = pd.date_range(start=\"2022-01-03\", end=\"2022-06-10\", freq=\"B\")\n",
        "\n",
        "# Fixed random seed for reproducibility\n",
        "np.random.seed(17)\n",
        "\n",
        "# Column 1: daily_return ~ N(0, 0.01)\n",
        "returns = np.random.normal(0, 0.01, size=len(dates))\n",
        "mask_pre_may = dates < \"2022-05-01\"\n",
        "returns[mask_pre_may] -= 0.0015  \n",
        "\n",
        "# Inject \"shock\" values\n",
        "shock_values = {\n",
        "    \"2022-05-02\": 0.1748425237194541,\n",
        "    \"2022-05-03\": -0.16825801732486943,\n",
        "    \"2022-05-06\": -0.19667220757153227,\n",
        "    \"2022-05-09\": 0.21240223590614747,\n",
        "    \"2022-05-12\": -0.178729287231294\n",
        "}\n",
        "for d, v in shock_values.items():\n",
        "    idx = np.where(dates == pd.to_datetime(d))[0][0]\n",
        "    returns[idx] = v\n",
        "\n",
        "# Column 2: daily_return_2, correlated with daily_return + small noise\n",
        "daily_return_2 = returns * 0.6 + np.random.normal(0, 0.005, size=len(dates))\n",
        "\n",
        "# Create DataFrame with two numeric columns\n",
        "df = pd.DataFrame({\n",
        "    \"date\": dates,\n",
        "    \"daily_return\": returns,\n",
        "    \"daily_return_2\": daily_return_2\n",
        "})\n",
        "\n",
        "# Save to CSV in raw data folder\n",
        "csv_path = os.path.join(raw_dir, 'outliers_homework.csv')\n",
        "if not os.path.exists(csv_path):\n",
        "    df.to_csv(csv_path, index=False)\n",
        "    print(f'Synthetic dataset with two columns created and saved to {csv_path}')\n",
        "else:\n",
        "    print(f'File already exists at {csv_path}. Skipping CSV creation to avoid overwrite.')"
      ]
    },
    {
      "cell_type": "markdown",
      "metadata": {},
      "source": [
        "# Stage 7 Homework — Outliers + Risk Assumptions\n",
        "In this assignment you will implement outlier detection/handling and run a simple sensitivity analysis.\n",
        "\n",
        "**Chain:** In the lecture, we learned detection (IQR, Z-score), options for handling (remove/winsorize), and sensitivity testing. Now, you will adapt those methods to a provided dataset and document the risks and assumptions behind your choices."
      ]
    },
    {
      "cell_type": "code",
      "execution_count": 3,
      "metadata": {},
      "outputs": [],
      "source": [
        "# Setup\n",
        "import numpy as np\n",
        "import pandas as pd\n",
        "import matplotlib.pyplot as plt\n",
        "from pathlib import Path\n",
        "from sklearn.linear_model import LinearRegression\n",
        "from sklearn.metrics import mean_absolute_error, r2_score\n",
        "np.random.seed(17)"
      ]
    },
    {
      "cell_type": "markdown",
      "metadata": {},
      "source": [
        "## Load Data (provided or synthetic fallback)"
      ]
    },
    {
      "cell_type": "code",
      "execution_count": 4,
      "metadata": {},
      "outputs": [
        {
          "data": {
            "text/html": [
              "<div>\n",
              "<style scoped>\n",
              "    .dataframe tbody tr th:only-of-type {\n",
              "        vertical-align: middle;\n",
              "    }\n",
              "\n",
              "    .dataframe tbody tr th {\n",
              "        vertical-align: top;\n",
              "    }\n",
              "\n",
              "    .dataframe thead th {\n",
              "        text-align: right;\n",
              "    }\n",
              "</style>\n",
              "<table border=\"1\" class=\"dataframe\">\n",
              "  <thead>\n",
              "    <tr style=\"text-align: right;\">\n",
              "      <th></th>\n",
              "      <th>x</th>\n",
              "      <th>y</th>\n",
              "    </tr>\n",
              "  </thead>\n",
              "  <tbody>\n",
              "    <tr>\n",
              "      <th>0</th>\n",
              "      <td>0.000000</td>\n",
              "      <td>1.331519</td>\n",
              "    </tr>\n",
              "    <tr>\n",
              "      <th>1</th>\n",
              "      <td>0.050251</td>\n",
              "      <td>-1.115001</td>\n",
              "    </tr>\n",
              "    <tr>\n",
              "      <th>2</th>\n",
              "      <td>0.100503</td>\n",
              "      <td>1.969787</td>\n",
              "    </tr>\n",
              "    <tr>\n",
              "      <th>3</th>\n",
              "      <td>0.150754</td>\n",
              "      <td>2.706032</td>\n",
              "    </tr>\n",
              "    <tr>\n",
              "      <th>4</th>\n",
              "      <td>0.201005</td>\n",
              "      <td>2.686840</td>\n",
              "    </tr>\n",
              "  </tbody>\n",
              "</table>\n",
              "</div>"
            ],
            "text/plain": [
              "          x         y\n",
              "0  0.000000  1.331519\n",
              "1  0.050251 -1.115001\n",
              "2  0.100503  1.969787\n",
              "3  0.150754  2.706032\n",
              "4  0.201005  2.686840"
            ]
          },
          "execution_count": 4,
          "metadata": {},
          "output_type": "execute_result"
        }
      ],
      "source": [
        "data_path = Path('data/raw/outliers_homework.csv')\n",
        "if data_path.exists():\n",
        "    df = pd.read_csv(data_path)\n",
        "else:\n",
        "    # Synthetic fallback: linear trend with noise and a few extremes\n",
        "    x = np.linspace(0, 10, 200)\n",
        "    y = 2.2 * x + 1 + np.random.normal(0, 1.2, size=x.size)\n",
        "    y[10] += 15; y[120] -= 13; y[160] += 18\n",
        "    df = pd.DataFrame({'x': x, 'y': y})\n",
        "df.head()"
      ]
    },
    {
      "cell_type": "markdown",
      "metadata": {},
      "source": [
        "## TODO: Implement Outlier Functions (required)"
      ]
    },
    {
      "cell_type": "code",
      "execution_count": 6,
      "metadata": {
        "tags": [
          "grade_required"
        ]
      },
      "outputs": [],
      "source": [
        "def detect_outliers_iqr(series: pd.Series, k: float = 1.5) -> pd.Series:\n",
        "    \"\"\"Return boolean mask for IQR-based outliers.\n",
        "    Assumptions: distribution reasonably summarized by quartiles; k controls strictness.\n",
        "    \"\"\"\n",
        "    s = pd.to_numeric(series, errors=\"coerce\")\n",
        "    q1 = s.quantile(0.25)\n",
        "    q3 = s.quantile(0.75)\n",
        "    iqr = q3 - q1\n",
        "    lower = q1 - k * iqr\n",
        "    upper = q3 + k * iqr\n",
        "    return (s < lower) | (s > upper)\n",
        "\n",
        "def detect_outliers_zscore(series: pd.Series, threshold: float = 3.0) -> pd.Series:\n",
        "    \"\"\"Return boolean mask for Z-score outliers where |z| > threshold.\n",
        "    Assumptions: roughly normal distribution; sensitive to heavy tails.\n",
        "    \"\"\"\n",
        "    s = pd.to_numeric(series, errors=\"coerce\")\n",
        "    mu = s.mean()\n",
        "    sigma = s.std(ddof=0)\n",
        "    if sigma == 0 or pd.isna(sigma):\n",
        "        return pd.Series(False, index=s.index)\n",
        "    z = (s - mu) / sigma\n",
        "    return z.abs() > threshold"
      ]
    },
    {
      "cell_type": "markdown",
      "metadata": {},
      "source": [
        "*(Stretch)* Implement winsorizing (optional)."
      ]
    },
    {
      "cell_type": "code",
      "execution_count": 7,
      "metadata": {
        "tags": [
          "stretch"
        ]
      },
      "outputs": [],
      "source": [
        "def winsorize_series(series: pd.Series, lower: float = 0.05, upper: float = 0.95) -> pd.Series:\n",
        "    lo = series.quantile(lower)\n",
        "    hi = series.quantile(upper)\n",
        "    return series.clip(lower=lo, upper=hi)"
      ]
    },
    {
      "cell_type": "markdown",
      "metadata": {},
      "source": [
        "## Apply Detection and Create Flags (choose a numeric column)"
      ]
    },
    {
      "cell_type": "code",
      "execution_count": 8,
      "metadata": {
        "tags": [
          "grade_required"
        ]
      },
      "outputs": [
        {
          "data": {
            "text/html": [
              "<div>\n",
              "<style scoped>\n",
              "    .dataframe tbody tr th:only-of-type {\n",
              "        vertical-align: middle;\n",
              "    }\n",
              "\n",
              "    .dataframe tbody tr th {\n",
              "        vertical-align: top;\n",
              "    }\n",
              "\n",
              "    .dataframe thead th {\n",
              "        text-align: right;\n",
              "    }\n",
              "</style>\n",
              "<table border=\"1\" class=\"dataframe\">\n",
              "  <thead>\n",
              "    <tr style=\"text-align: right;\">\n",
              "      <th></th>\n",
              "      <th>iqr_frac</th>\n",
              "      <th>z_frac</th>\n",
              "      <th>any_frac</th>\n",
              "    </tr>\n",
              "  </thead>\n",
              "  <tbody>\n",
              "    <tr>\n",
              "      <th>0</th>\n",
              "      <td>0.005</td>\n",
              "      <td>0.005</td>\n",
              "      <td>0.005</td>\n",
              "    </tr>\n",
              "  </tbody>\n",
              "</table>\n",
              "</div>"
            ],
            "text/plain": [
              "   iqr_frac  z_frac  any_frac\n",
              "0     0.005   0.005     0.005"
            ]
          },
          "execution_count": 8,
          "metadata": {},
          "output_type": "execute_result"
        }
      ],
      "source": [
        "if 'daily_return' in df.columns:\n",
        "    target_col = 'daily_return'\n",
        "elif 'y' in df.columns:\n",
        "    target_col = 'y'\n",
        "else:\n",
        "    target_col = df.select_dtypes(include=['number']).columns[0]\n",
        "\n",
        "df['outlier_iqr'] = detect_outliers_iqr(df[target_col], k=1.5)\n",
        "df['outlier_z']   = detect_outliers_zscore(df[target_col], threshold=3.0)\n",
        "df['any_outlier'] = df['outlier_iqr'] | df['outlier_z']\n",
        "\n",
        "# Quick fractions flagged by each method\n",
        "pd.DataFrame({\n",
        "    'iqr_frac': [df['outlier_iqr'].mean()],\n",
        "    'z_frac':   [df['outlier_z'].mean()],\n",
        "    'any_frac': [df['any_outlier'].mean()],\n",
        "})"
      ]
    },
    {
      "cell_type": "markdown",
      "metadata": {},
      "source": [
        "### Visual Checks (boxplot / histogram)"
      ]
    },
    {
      "cell_type": "code",
      "execution_count": 9,
      "metadata": {},
      "outputs": [
        {
          "data": {
            "image/png": "[encoded data removed]",
            "text/plain": [
              "<Figure size 640x480 with 1 Axes>"
            ]
          },
          "metadata": {},
          "output_type": "display_data"
        },
        {
          "data": {
            "image/png": "[encoded data removed]",
            "text/plain": [
              "<Figure size 640x480 with 1 Axes>"
            ]
          },
          "metadata": {},
          "output_type": "display_data"
        }
      ],
      "source": [
        "plt.figure()\n",
        "plt.boxplot(df[target_col])\n",
        "plt.title(f'Boxplot: {target_col}')\n",
        "plt.show()\n",
        "\n",
        "plt.figure()\n",
        "plt.hist(df[target_col], bins=30)\n",
        "plt.title(f'Histogram: {target_col}')\n",
        "plt.show()"
      ]
    },
    {
      "cell_type": "code",
      "execution_count": 11,
      "id": "9d6ad32b",
      "metadata": {},
      "outputs": [
        {
          "data": {
            "image/png": "[encoded data removed]",
            "text/plain": [
              "<Figure size 640x480 with 1 Axes>"
            ]
          },
          "metadata": {},
          "output_type": "display_data"
        }
      ],
      "source": [
        "plt.figure()\n",
        "plt.boxplot(df.loc[~df['any_outlier'], target_col].dropna())\n",
        "plt.title(f'Boxplot: {target_col} (filtered: not IQR/Z outliers)')\n",
        "plt.show()"
      ]
    },
    {
      "cell_type": "code",
      "execution_count": 12,
      "id": "81e95831",
      "metadata": {},
      "outputs": [
        {
          "data": {
            "image/png": "[encoded data removed]",
            "text/plain": [
              "<Figure size 640x480 with 1 Axes>"
            ]
          },
          "metadata": {},
          "output_type": "display_data"
        }
      ],
      "source": [
        "w_series = winsorize_series(df[target_col], lower=0.05, upper=0.95)\n",
        "\n",
        "plt.figure()\n",
        "plt.boxplot(w_series.dropna())\n",
        "plt.title(f'Boxplot: {target_col} (winsorized 5–95%)')\n",
        "plt.show()"
      ]
    },
    {
      "cell_type": "markdown",
      "metadata": {},
      "source": [
        "## Sensitivity Analysis\n",
        "Pick one: summary stats or simple linear regression comparing **all vs. filtered** (and optional winsorized)."
      ]
    },
    {
      "cell_type": "code",
      "execution_count": 17,
      "metadata": {
        "tags": [
          "grade_required"
        ]
      },
      "outputs": [
        {
          "data": {
            "text/html": [
              "<div>\n",
              "<style scoped>\n",
              "    .dataframe tbody tr th:only-of-type {\n",
              "        vertical-align: middle;\n",
              "    }\n",
              "\n",
              "    .dataframe tbody tr th {\n",
              "        vertical-align: top;\n",
              "    }\n",
              "\n",
              "    .dataframe thead th {\n",
              "        text-align: right;\n",
              "    }\n",
              "</style>\n",
              "<table border=\"1\" class=\"dataframe\">\n",
              "  <thead>\n",
              "    <tr style=\"text-align: right;\">\n",
              "      <th></th>\n",
              "      <th>all</th>\n",
              "      <th>filtered</th>\n",
              "      <th>winsorized</th>\n",
              "    </tr>\n",
              "  </thead>\n",
              "  <tbody>\n",
              "    <tr>\n",
              "      <th>mean</th>\n",
              "      <td>12.171936</td>\n",
              "      <td>12.047851</td>\n",
              "      <td>12.119643</td>\n",
              "    </tr>\n",
              "    <tr>\n",
              "      <th>median</th>\n",
              "      <td>12.349663</td>\n",
              "      <td>12.285113</td>\n",
              "      <td>12.349663</td>\n",
              "    </tr>\n",
              "    <tr>\n",
              "      <th>std</th>\n",
              "      <td>6.744453</td>\n",
              "      <td>6.529689</td>\n",
              "      <td>6.370794</td>\n",
              "    </tr>\n",
              "  </tbody>\n",
              "</table>\n",
              "</div>"
            ],
            "text/plain": [
              "              all   filtered  winsorized\n",
              "mean    12.171936  12.047851   12.119643\n",
              "median  12.349663  12.285113   12.349663\n",
              "std      6.744453   6.529689    6.370794"
            ]
          },
          "execution_count": 17,
          "metadata": {},
          "output_type": "execute_result"
        }
      ],
      "source": [
        "# Option A: Summary stats\n",
        "summ_all = df[target_col].describe()[['mean', '50%', 'std']].rename({'50%': 'median'})\n",
        "summ_filtered = df.loc[~df['outlier_iqr'], target_col].describe()[['mean', '50%', 'std']].rename({'50%': 'median'})\n",
        "summ_w = None\n",
        "if 'winsorize_series' in globals():\n",
        "    w = winsorize_series(df[target_col])\n",
        "    summ_w = w.describe()[['mean', '50%', 'std']].rename({'50%': 'median'})\n",
        "\n",
        "comp = pd.concat(\n",
        "    {\n",
        "        'all': summ_all,\n",
        "        'filtered_iqr': summ_filtered,\n",
        "        **({'winsorized': summ_w} if summ_w is not None else {})\n",
        "    }, axis=1\n",
        ")\n",
        "comp\n",
        "\n",
        "def _summarize(s: pd.Series) -> pd.Series:\n",
        "    return pd.Series({'mean': s.mean(), 'median': s.median(), 'std': s.std(ddof=0)})\n",
        "\n",
        "summ_all      = _summarize(df[target_col])\n",
        "summ_filtered = _summarize(df.loc[~df['any_outlier'], target_col])\n",
        "summ_winsor   = _summarize(w_series)\n",
        "\n",
        "comp_summary = pd.concat(\n",
        "    {'all': summ_all, 'filtered': summ_filtered, 'winsorized': summ_winsor},\n",
        "    axis=1\n",
        ")\n",
        "comp_summary"
      ]
    },
    {
      "cell_type": "code",
      "execution_count": 18,
      "metadata": {
        "tags": [
          "grade_required"
        ]
      },
      "outputs": [],
      "source": [
        "if 'x' in df.columns and target_col != 'x':\n",
        "    feature_col = 'x'\n",
        "elif 'daily_return_2' in df.columns and target_col != 'daily_return_2':\n",
        "    feature_col = 'daily_return_2'\n",
        "else:\n",
        "    feature_col = None\n",
        "\n",
        "results_reg = None\n",
        "if feature_col is not None:\n",
        "    X_all = df[[feature_col]].to_numpy(); y_all = df[target_col].to_numpy()\n",
        "    mask  = ~df['any_outlier']\n",
        "    X_flt = df.loc[mask, [feature_col]].to_numpy(); y_flt = df.loc[mask, target_col].to_numpy()\n",
        "    y_win = winsorize_series(df[target_col]).to_numpy()  # same X_all\n",
        "\n",
        "    model_all = LinearRegression().fit(X_all, y_all)\n",
        "    model_flt = LinearRegression().fit(X_flt, y_flt)\n",
        "    model_win = LinearRegression().fit(X_all, y_win)\n",
        "\n",
        "    from sklearn.metrics import mean_absolute_error, r2_score\n",
        "    mae_all = mean_absolute_error(y_all, model_all.predict(X_all))\n",
        "    mae_flt = mean_absolute_error(y_flt, model_flt.predict(X_flt))\n",
        "    mae_win = mean_absolute_error(y_win, model_win.predict(X_all))\n",
        "\n",
        "    results = pd.DataFrame({\n",
        "        'slope':     [model_all.coef_[0], model_flt.coef_[0], model_win.coef_[0]],\n",
        "        'intercept': [model_all.intercept_, model_flt.intercept_, model_win.intercept_],\n",
        "        'r2':        [model_all.score(X_all, y_all), model_flt.score(X_flt, y_flt), r2_score(y_win, model_win.predict(X_all))],\n",
        "        'mae':       [mae_all, mae_flt, mae_win],\n",
        "    }, index=['all', 'filtered_iqr|z', 'winsorized'])\n",
        "    results\n",
        "else:\n",
        "    results = None\n",
        "    print(\"No feature column present; regression skipped (summary stats are enough).\")"
      ]
    },
    {
      "cell_type": "code",
      "execution_count": 19,
      "id": "453f8c30",
      "metadata": {},
      "outputs": [
        {
          "name": "stdout",
          "output_type": "stream",
          "text": [
            "Saved: summary_stats, regression_metrics (if any), flagged_dataset to ../data/processed/\n"
          ]
        }
      ],
      "source": [
        "from pathlib import Path\n",
        "proc = Path('../data/processed')\n",
        "proc.mkdir(parents=True, exist_ok=True)\n",
        "\n",
        "# Save tables\n",
        "comp_summary.to_csv(proc / 'stage07_summary_stats.csv')\n",
        "if results is not None:\n",
        "    results.to_csv(proc / 'stage07_regression_metrics.csv')\n",
        "\n",
        "# Save dataset with flags for reproducibility\n",
        "df.to_csv(proc / 'stage07_flagged_dataset.csv', index=False)\n",
        "\n",
        "print(\"Saved: summary_stats, regression_metrics (if any), flagged_dataset to ../data/processed/\")"
      ]
    },
    {
      "cell_type": "markdown",
      "metadata": {},
      "source": [
        "### Reflection (≤ 1 page)\n",
        "- Methods and thresholds used (and why)\n",
        "- Assumptions behind choices\n",
        "- Observed impact on results\n",
        "- Risks if assumptions are wrong (e.g., discarding true events)"
      ]
    },
    {
      "cell_type": "markdown",
      "metadata": {},
      "source": [
        "**Methods & thresholds used**\n",
        "- IQR (k=1.5), Z-score (|z|>3), Winsorization (5–95%).\n",
        "\n",
        "**Assumptions**\n",
        "- Quartiles summarize typical dispersion on non-shock days; z-scores are reasonable for near-symmetric periods.\n",
        "- Winsorization preserves rows but reduces leverage of extremes.\n",
        "\n",
        "**Observed impact**\n",
        "- Mean: 12.17 → 12.04 (filtered) → 12.11 (winsorized)\n",
        "- Median: 12.35 → 12.29 → 12.35\n",
        "- Std: 6.74 → 6.53 → 6.37\n",
        "\n",
        "**Risks**\n",
        "- If extreme moves are real signals, filtering/winsorizing can understate risk and distort models.\n",
        "- Z-score can misflag under heavy tails; IQR can miss clustered extremes.\n",
        "- Results are threshold-sensitive; showing multiple treatments is safer."
      ]
    }
  ],
  "metadata": {
    "kernelspec": {
      "display_name": "base",
      "language": "python",
      "name": "python3"
    },
    "language_info": {
      "codemirror_mode": {
        "name": "ipython",
        "version": 3
      },
      "file_extension": ".py",
      "mimetype": "text/x-python",
      "name": "python",
      "nbconvert_exporter": "python",
      "pygments_lexer": "ipython3",
      "version": "3.13.5"
    }
  },
  "nbformat": 4,
  "nbformat_minor": 5
}
