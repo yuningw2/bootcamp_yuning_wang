{
 "cells": [
  {
   "cell_type": "markdown",
   "metadata": {},
   "source": [
    "# Homework Starter — Stage 10a: Linear Regression\n",
    "\n",
    "Use this as a scaffold if your project data isn’t ready. Replace the synthetic data section with your dataset when possible."
   ]
  },
  {
   "cell_type": "code",
   "execution_count": 6,
   "metadata": {},
   "outputs": [
    {
     "name": "stdout",
     "output_type": "stream",
     "text": [
      "Shape: (1000, 10)\n"
     ]
    },
    {
     "data": {
      "text/html": [
       "<div>\n",
       "<style scoped>\n",
       "    .dataframe tbody tr th:only-of-type {\n",
       "        vertical-align: middle;\n",
       "    }\n",
       "\n",
       "    .dataframe tbody tr th {\n",
       "        vertical-align: top;\n",
       "    }\n",
       "\n",
       "    .dataframe thead th {\n",
       "        text-align: right;\n",
       "    }\n",
       "</style>\n",
       "<table border=\"1\" class=\"dataframe\">\n",
       "  <thead>\n",
       "    <tr style=\"text-align: right;\">\n",
       "      <th></th>\n",
       "      <th>date_listed</th>\n",
       "      <th>sqft</th>\n",
       "      <th>bedrooms</th>\n",
       "      <th>bathrooms</th>\n",
       "      <th>age_years</th>\n",
       "      <th>distance_km</th>\n",
       "      <th>renovated</th>\n",
       "      <th>lot_size_sqft</th>\n",
       "      <th>school_rating</th>\n",
       "      <th>price</th>\n",
       "    </tr>\n",
       "  </thead>\n",
       "  <tbody>\n",
       "    <tr>\n",
       "      <th>0</th>\n",
       "      <td>2024-02-01</td>\n",
       "      <td>1824</td>\n",
       "      <td>3</td>\n",
       "      <td>2</td>\n",
       "      <td>37.8</td>\n",
       "      <td>2.29</td>\n",
       "      <td>1</td>\n",
       "      <td>4648</td>\n",
       "      <td>10</td>\n",
       "      <td>519858</td>\n",
       "    </tr>\n",
       "    <tr>\n",
       "      <th>1</th>\n",
       "      <td>2024-02-01</td>\n",
       "      <td>1538</td>\n",
       "      <td>3</td>\n",
       "      <td>2</td>\n",
       "      <td>3.9</td>\n",
       "      <td>8.62</td>\n",
       "      <td>0</td>\n",
       "      <td>4823</td>\n",
       "      <td>8</td>\n",
       "      <td>445929</td>\n",
       "    </tr>\n",
       "    <tr>\n",
       "      <th>2</th>\n",
       "      <td>2024-02-02</td>\n",
       "      <td>1891</td>\n",
       "      <td>3</td>\n",
       "      <td>2</td>\n",
       "      <td>28.7</td>\n",
       "      <td>2.84</td>\n",
       "      <td>0</td>\n",
       "      <td>2929</td>\n",
       "      <td>10</td>\n",
       "      <td>549556</td>\n",
       "    </tr>\n",
       "    <tr>\n",
       "      <th>3</th>\n",
       "      <td>2024-02-02</td>\n",
       "      <td>2285</td>\n",
       "      <td>3</td>\n",
       "      <td>2</td>\n",
       "      <td>120.0</td>\n",
       "      <td>2.66</td>\n",
       "      <td>1</td>\n",
       "      <td>4490</td>\n",
       "      <td>10</td>\n",
       "      <td>372698</td>\n",
       "    </tr>\n",
       "    <tr>\n",
       "      <th>4</th>\n",
       "      <td>2024-02-02</td>\n",
       "      <td>1495</td>\n",
       "      <td>2</td>\n",
       "      <td>2</td>\n",
       "      <td>23.2</td>\n",
       "      <td>1.09</td>\n",
       "      <td>0</td>\n",
       "      <td>2124</td>\n",
       "      <td>10</td>\n",
       "      <td>480494</td>\n",
       "    </tr>\n",
       "  </tbody>\n",
       "</table>\n",
       "</div>"
      ],
      "text/plain": [
       "  date_listed  sqft  bedrooms  bathrooms  age_years  distance_km  renovated  \\\n",
       "0  2024-02-01  1824         3          2       37.8         2.29          1   \n",
       "1  2024-02-01  1538         3          2        3.9         8.62          0   \n",
       "2  2024-02-02  1891         3          2       28.7         2.84          0   \n",
       "3  2024-02-02  2285         3          2      120.0         2.66          1   \n",
       "4  2024-02-02  1495         2          2       23.2         1.09          0   \n",
       "\n",
       "   lot_size_sqft  school_rating   price  \n",
       "0           4648             10  519858  \n",
       "1           4823              8  445929  \n",
       "2           2929             10  549556  \n",
       "3           4490             10  372698  \n",
       "4           2124             10  480494  "
      ]
     },
     "metadata": {},
     "output_type": "display_data"
    }
   ],
   "source": [
    "import pandas as pd\n",
    "\n",
    "if USE_SYNTHETIC:\n",
    "    # If you ever want to *generate* data in-notebook instead of using the CSV:\n",
    "    import numpy as np\n",
    "    np.random.seed(42)\n",
    "    n = 200\n",
    "    dates = pd.bdate_range(start=\"2024-02-01\", periods=n)\n",
    "    mkt_excess = np.random.normal(0, 0.011, size=n)\n",
    "    size = np.random.normal(0, 0.008, size=n)\n",
    "    value = np.random.normal(0, 0.009, size=n)\n",
    "    momentum = np.random.normal(0, 0.006, size=n)\n",
    "    beta0, b_mkt, b_size, b_value, b_mom, b_mom2 = 0.0001, 0.9, 0.25, -0.15, 0.35, 3.5\n",
    "    noise_scale = 0.0035 + 0.5*np.abs(mkt_excess)\n",
    "    eps = np.random.normal(0, noise_scale)\n",
    "    asset_excess = (\n",
    "        beta0 + b_mkt*mkt_excess + b_size*size + b_value*value\n",
    "        + b_mom*momentum + b_mom2*(momentum**2) + eps\n",
    "    )\n",
    "    df = pd.DataFrame({\n",
    "        'date': dates, 'mkt_excess': mkt_excess, 'size': size,\n",
    "        'value': value, 'momentum': momentum, 'asset_excess': asset_excess\n",
    "    })\n",
    "    TARGET = \"asset_excess\"\n",
    "else:\n",
    "    if CSV_PATH.lower().endswith(\".parquet\"):\n",
    "        df = pd.read_parquet(CSV_PATH)\n",
    "    else:\n",
    "        df = pd.read_csv(CSV_PATH)\n",
    "\n",
    "    # Parse any date-like columns\n",
    "    for col in df.columns:\n",
    "        if \"date\" in col.lower():\n",
    "            try:\n",
    "                df[col] = pd.to_datetime(df[col])\n",
    "            except Exception:\n",
    "                pass\n",
    "\n",
    "print(\"Shape:\", df.shape)\n",
    "display(df.head())"
   ]
  },
  {
   "cell_type": "code",
   "execution_count": 7,
   "id": "8e06e328",
   "metadata": {},
   "outputs": [],
   "source": [
    "USE_SYNTHETIC = False                      # <-- flip to False\n",
    "CSV_PATH = \"../data/processed/synth_housing_clean.csv\"   # <-- put the CSV here\n",
    "TARGET = \"price\"                           # <-- target column in that CSV\n",
    "TEST_SIZE = 0.2"
   ]
  },
  {
   "cell_type": "markdown",
   "metadata": {},
   "source": [
    "## 1) Synthetic data (replace with your project data when ready)\n",
    "- Finance-flavored factors and asset excess return\n",
    "- Includes a quadratic effect to motivate specification checks"
   ]
  },
  {
   "cell_type": "code",
   "execution_count": 8,
   "metadata": {},
   "outputs": [
    {
     "name": "stdout",
     "output_type": "stream",
     "text": [
      "Shape: (1000, 10)\n"
     ]
    },
    {
     "data": {
      "text/html": [
       "<div>\n",
       "<style scoped>\n",
       "    .dataframe tbody tr th:only-of-type {\n",
       "        vertical-align: middle;\n",
       "    }\n",
       "\n",
       "    .dataframe tbody tr th {\n",
       "        vertical-align: top;\n",
       "    }\n",
       "\n",
       "    .dataframe thead th {\n",
       "        text-align: right;\n",
       "    }\n",
       "</style>\n",
       "<table border=\"1\" class=\"dataframe\">\n",
       "  <thead>\n",
       "    <tr style=\"text-align: right;\">\n",
       "      <th></th>\n",
       "      <th>date_listed</th>\n",
       "      <th>sqft</th>\n",
       "      <th>bedrooms</th>\n",
       "      <th>bathrooms</th>\n",
       "      <th>age_years</th>\n",
       "      <th>distance_km</th>\n",
       "      <th>renovated</th>\n",
       "      <th>lot_size_sqft</th>\n",
       "      <th>school_rating</th>\n",
       "      <th>price</th>\n",
       "    </tr>\n",
       "  </thead>\n",
       "  <tbody>\n",
       "    <tr>\n",
       "      <th>0</th>\n",
       "      <td>2024-02-01</td>\n",
       "      <td>1824</td>\n",
       "      <td>3</td>\n",
       "      <td>2</td>\n",
       "      <td>37.8</td>\n",
       "      <td>2.29</td>\n",
       "      <td>1</td>\n",
       "      <td>4648</td>\n",
       "      <td>10</td>\n",
       "      <td>519858</td>\n",
       "    </tr>\n",
       "    <tr>\n",
       "      <th>1</th>\n",
       "      <td>2024-02-01</td>\n",
       "      <td>1538</td>\n",
       "      <td>3</td>\n",
       "      <td>2</td>\n",
       "      <td>3.9</td>\n",
       "      <td>8.62</td>\n",
       "      <td>0</td>\n",
       "      <td>4823</td>\n",
       "      <td>8</td>\n",
       "      <td>445929</td>\n",
       "    </tr>\n",
       "    <tr>\n",
       "      <th>2</th>\n",
       "      <td>2024-02-02</td>\n",
       "      <td>1891</td>\n",
       "      <td>3</td>\n",
       "      <td>2</td>\n",
       "      <td>28.7</td>\n",
       "      <td>2.84</td>\n",
       "      <td>0</td>\n",
       "      <td>2929</td>\n",
       "      <td>10</td>\n",
       "      <td>549556</td>\n",
       "    </tr>\n",
       "    <tr>\n",
       "      <th>3</th>\n",
       "      <td>2024-02-02</td>\n",
       "      <td>2285</td>\n",
       "      <td>3</td>\n",
       "      <td>2</td>\n",
       "      <td>120.0</td>\n",
       "      <td>2.66</td>\n",
       "      <td>1</td>\n",
       "      <td>4490</td>\n",
       "      <td>10</td>\n",
       "      <td>372698</td>\n",
       "    </tr>\n",
       "    <tr>\n",
       "      <th>4</th>\n",
       "      <td>2024-02-02</td>\n",
       "      <td>1495</td>\n",
       "      <td>2</td>\n",
       "      <td>2</td>\n",
       "      <td>23.2</td>\n",
       "      <td>1.09</td>\n",
       "      <td>0</td>\n",
       "      <td>2124</td>\n",
       "      <td>10</td>\n",
       "      <td>480494</td>\n",
       "    </tr>\n",
       "  </tbody>\n",
       "</table>\n",
       "</div>"
      ],
      "text/plain": [
       "  date_listed  sqft  bedrooms  bathrooms  age_years  distance_km  renovated  \\\n",
       "0  2024-02-01  1824         3          2       37.8         2.29          1   \n",
       "1  2024-02-01  1538         3          2        3.9         8.62          0   \n",
       "2  2024-02-02  1891         3          2       28.7         2.84          0   \n",
       "3  2024-02-02  2285         3          2      120.0         2.66          1   \n",
       "4  2024-02-02  1495         2          2       23.2         1.09          0   \n",
       "\n",
       "   lot_size_sqft  school_rating   price  \n",
       "0           4648             10  519858  \n",
       "1           4823              8  445929  \n",
       "2           2929             10  549556  \n",
       "3           4490             10  372698  \n",
       "4           2124             10  480494  "
      ]
     },
     "metadata": {},
     "output_type": "display_data"
    }
   ],
   "source": [
    "if USE_SYNTHETIC:\n",
    "    # (You can keep your original synthetic generator here if you like)\n",
    "    raise SystemExit(\"Set USE_SYNTHETIC=False to use the provided CSV.\")\n",
    "else:\n",
    "    import pandas as pd\n",
    "    if CSV_PATH.lower().endswith(\".parquet\"):\n",
    "        df = pd.read_parquet(CSV_PATH)\n",
    "    else:\n",
    "        df = pd.read_csv(CSV_PATH)\n",
    "\n",
    "    # Try to parse any date-like columns\n",
    "    for col in df.columns:\n",
    "        if \"date\" in col.lower():\n",
    "            try:\n",
    "                df[col] = pd.to_datetime(df[col])\n",
    "            except Exception:\n",
    "                pass\n",
    "\n",
    "print(\"Shape:\", df.shape)\n",
    "display(df.head())"
   ]
  },
  {
   "cell_type": "code",
   "execution_count": 9,
   "id": "568f1400",
   "metadata": {},
   "outputs": [
    {
     "name": "stdout",
     "output_type": "stream",
     "text": [
      "Using numeric features: ['sqft', 'bedrooms', 'bathrooms', 'age_years', 'distance_km', 'renovated', 'lot_size_sqft', 'school_rating']\n"
     ]
    }
   ],
   "source": [
    "# Respect time order if a date column exists\n",
    "date_cols = [c for c in df.columns if \"date\" in c.lower()]\n",
    "if date_cols:\n",
    "    df = df.sort_values(date_cols[0])\n",
    "\n",
    "# Auto-pick numeric features except the TARGET\n",
    "import numpy as np\n",
    "num_cols = df.select_dtypes(include=[np.number]).columns.tolist()\n",
    "feat_cols = [c for c in num_cols if c != TARGET]\n",
    "X = df[feat_cols].copy()\n",
    "y = df[TARGET].copy()\n",
    "print(\"Using numeric features:\", feat_cols)\n",
    "\n",
    "from sklearn.model_selection import train_test_split\n",
    "X_train, X_test, y_train, y_test = train_test_split(\n",
    "    X, y, test_size=TEST_SIZE, shuffle=False\n",
    ")"
   ]
  },
  {
   "cell_type": "markdown",
   "metadata": {},
   "source": [
    "## 2) Baseline model fit\n",
    "Follow the steps; replace `df` with your project DataFrame when ready."
   ]
  },
  {
   "cell_type": "code",
   "execution_count": null,
   "metadata": {},
   "outputs": [
    {
     "name": "stdout",
     "output_type": "stream",
     "text": [
      "Baseline   R^2=0.8705  RMSE=47413.73\n"
     ]
    }
   ],
   "source": [
    "from sklearn.metrics import r2_score, mean_squared_error\n",
    "import numpy as np\n",
    "\n",
    "r2 = r2_score(y_test, y_pred)\n",
    "\n",
    "# Version-agnostic RMSE\n",
    "try:\n",
    "    rmse = mean_squared_error(y_test, y_pred, squared=False)  # newer sklearn\n",
    "except TypeError:\n",
    "    rmse = np.sqrt(mean_squared_error(y_test, y_pred))        # older sklearn\n",
    "\n",
    "print(f\"Baseline   R^2={r2:.4f}  RMSE={rmse:.2f}\")"
   ]
  },
  {
   "cell_type": "code",
   "execution_count": 14,
   "metadata": {},
   "outputs": [
    {
     "data": {
      "image/png": "[encoded data removed]",
      "text/plain": [
       "<Figure size 640x480 with 1 Axes>"
      ]
     },
     "metadata": {},
     "output_type": "display_data"
    },
    {
     "data": {
      "image/png": "[encoded data removed]",
      "text/plain": [
       "<Figure size 640x480 with 1 Axes>"
      ]
     },
     "metadata": {},
     "output_type": "display_data"
    },
    {
     "data": {
      "image/png": "[encoded data removed]",
      "text/plain": [
       "<Figure size 640x480 with 1 Axes>"
      ]
     },
     "metadata": {},
     "output_type": "display_data"
    }
   ],
   "source": [
    "resid = y_test - y_pred\n",
    "fitted = y_pred\n",
    "plt.figure(); plt.scatter(fitted, resid); plt.axhline(0, ls='--'); plt.title('Residuals vs Fitted'); plt.show()\n",
    "plt.figure(); plt.hist(resid, bins=20); plt.title('Residual Histogram'); plt.show()\n",
    "plt.figure(); st.probplot(resid, dist='norm', plot=plt); plt.title('QQ Plot'); plt.show()"
   ]
  },
  {
   "cell_type": "markdown",
   "metadata": {},
   "source": [
    "## 3) Optional: Add a transformed feature\n",
    "Add a polynomial or interaction if diagnostics suggest mis-specification."
   ]
  },
  {
   "cell_type": "code",
   "execution_count": 16,
   "metadata": {},
   "outputs": [
    {
     "name": "stdout",
     "output_type": "stream",
     "text": [
      "With sqft^2   R^2=0.8704   RMSE=47438.58\n"
     ]
    }
   ],
   "source": [
    "col = 'sqft' if 'sqft' in X.columns else X.columns[0]\n",
    "\n",
    "X2 = X.copy()\n",
    "X2[f'{col}_sq'] = X2[col] ** 2\n",
    "\n",
    "# Use index alignment (safer than slicing by counts)\n",
    "X2_train = X2.loc[X_train.index]\n",
    "X2_test  = X2.loc[X_test.index]\n",
    "\n",
    "lr2 = LinearRegression().fit(X2_train, y_train)\n",
    "y_pred2 = lr2.predict(X2_test)\n",
    "\n",
    "from sklearn.metrics import r2_score, mean_squared_error\n",
    "import numpy as np\n",
    "\n",
    "r2_2 = r2_score(y_test, y_pred2)\n",
    "try:\n",
    "    rmse_2 = mean_squared_error(y_test, y_pred2, squared=False)  # newer sklearn\n",
    "except TypeError:\n",
    "    rmse_2 = np.sqrt(mean_squared_error(y_test, y_pred2))        # older sklearn\n",
    "\n",
    "print(f\"With {col}^2   R^2={r2_2:.4f}   RMSE={rmse_2:.2f}\")"
   ]
  },
  {
   "cell_type": "markdown",
   "metadata": {},
   "source": [
    "## 4) Interpretation (write your conclusions below)\n",
    "- Linearity: Residuals mostly center around 0, with a slight curve → add a simple squared term.\n",
    "\n",
    "- Homoscedasticity: Spread grows at higher fitted values → variance isn’t constant; try modeling log(price) or use weights.\n",
    "\n",
    "- Normality: Histogram/QQ are roughly normal with heavier tails → OK for prediction; be cautious for tight inference.\n",
    "\n",
    "- Independence: No obvious pattern in lag-1 plot; DW ≈ 2 → independence looks fine.\n",
    "\n",
    "- Which model do you trust and why?: Pick the model with higher R², lower RMSE, and cleaner residual plots.\n",
    "\n",
    "- Next step you’d try: Try log(price) as target and/or add sqft^2, age_years^2, maybe an interaction; then re-check metrics and plots.\n"
   ]
  }
 ],
 "metadata": {
  "kernelspec": {
   "display_name": "base",
   "language": "python",
   "name": "python3"
  },
  "language_info": {
   "codemirror_mode": {
    "name": "ipython",
    "version": 3
   },
   "file_extension": ".py",
   "mimetype": "text/x-python",
   "name": "python",
   "nbconvert_exporter": "python",
   "pygments_lexer": "ipython3",
   "version": "3.13.5"
  }
 },
 "nbformat": 4,
 "nbformat_minor": 5
}
