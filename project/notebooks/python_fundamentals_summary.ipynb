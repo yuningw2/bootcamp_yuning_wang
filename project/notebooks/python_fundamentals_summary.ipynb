{
 "cells": [
  {
   "cell_type": "code",
   "execution_count": 1,
   "id": "3c923cae",
   "metadata": {},
   "outputs": [
    {
     "name": "stdout",
     "output_type": "stream",
     "text": [
      "Project root: c:\\Users\\Tracy\\bootcamp_yuning_wang\\project\n",
      "Data dir: c:\\Users\\Tracy\\bootcamp_yuning_wang\\project\\data\n",
      "Processed dir: c:\\Users\\Tracy\\bootcamp_yuning_wang\\project\\data\\processed\n"
     ]
    }
   ],
   "source": [
    "import numpy as np\n",
    "import pandas as pd\n",
    "import matplotlib.pyplot as plt\n",
    "from pathlib import Path\n",
    "import sys\n",
    "\n",
    "# assume this notebook lives in project_root/notebooks/\n",
    "proj_root = Path.cwd().parent\n",
    "DATA_DIR = proj_root / \"data\"\n",
    "RAW_DIR  = DATA_DIR / \"raw\"\n",
    "PROC_DIR = DATA_DIR / \"processed\"\n",
    "\n",
    "# make src importable\n",
    "sys.path.append(str(proj_root / \"src\"))\n",
    "from utils import ensure_dir, get_summary_stats, groupby_mean, save_table, save_histogram, calc_mean_std\n",
    "\n",
    "ensure_dir(PROC_DIR)\n",
    "print(\"Project root:\", proj_root)\n",
    "print(\"Data dir:\", DATA_DIR)\n",
    "print(\"Processed dir:\", PROC_DIR)"
   ]
  },
  {
   "cell_type": "code",
   "execution_count": 2,
   "id": "b9e6466d",
   "metadata": {},
   "outputs": [
    {
     "name": "stdout",
     "output_type": "stream",
     "text": [
      "94 ms ± 2.24 ms per loop (mean ± std. dev. of 7 runs, 10 loops each)\n",
      "1.86 ms ± 62.1 μs per loop (mean ± std. dev. of 7 runs, 1,000 loops each)\n"
     ]
    }
   ],
   "source": [
    "# Create array and elementwise operations\n",
    "arr = np.arange(10)\n",
    "arr_double  = arr * 2\n",
    "arr_squared = arr ** 2\n",
    "arr, arr_double, arr_squared\n",
    "\n",
    "# Compare loop vs vectorized on a big array (use %timeit in Jupyter)\n",
    "big = np.arange(1_000_000)\n",
    "\n",
    "# Python list comprehension (loop)\n",
    "%timeit [x * 2 for x in big]\n",
    "\n",
    "# NumPy vectorized\n",
    "%timeit big * 2"
   ]
  },
  {
   "cell_type": "code",
   "execution_count": null,
   "id": "e9c60d0a",
   "metadata": {},
   "outputs": [],
   "source": []
  }
 ],
 "metadata": {
  "kernelspec": {
   "display_name": "base",
   "language": "python",
   "name": "python3"
  },
  "language_info": {
   "codemirror_mode": {
    "name": "ipython",
    "version": 3
   },
   "file_extension": ".py",
   "mimetype": "text/x-python",
   "name": "python",
   "nbconvert_exporter": "python",
   "pygments_lexer": "ipython3",
   "version": "3.13.5"
  }
 },
 "nbformat": 4,
 "nbformat_minor": 5
}
