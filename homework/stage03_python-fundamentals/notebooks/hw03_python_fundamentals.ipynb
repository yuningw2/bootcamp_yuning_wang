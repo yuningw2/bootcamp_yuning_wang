{
 "cells": [
  {
   "cell_type": "code",
   "execution_count": 1,
   "id": "b57ac7bf",
   "metadata": {},
   "outputs": [
    {
     "name": "stdout",
     "output_type": "stream",
     "text": [
      "Project root: c:\\Users\\Tracy\\bootcamp_yuning_wang\\homework\\stage03_python-fundamentals\n",
      "Data dir: c:\\Users\\Tracy\\bootcamp_yuning_wang\\homework\\stage03_python-fundamentals\\data\n",
      "Processed dir: c:\\Users\\Tracy\\bootcamp_yuning_wang\\homework\\stage03_python-fundamentals\\data\\processed\n"
     ]
    }
   ],
   "source": [
    "import numpy as np\n",
    "import pandas as pd\n",
    "import matplotlib.pyplot as plt\n",
    "from pathlib import Path\n",
    "import sys\n",
    "\n",
    "proj_root = Path.cwd().parent  # go up to stage03_python-fundamentals\n",
    "DATA_DIR = proj_root / \"data\"\n",
    "PROC_DIR = DATA_DIR / \"processed\"\n",
    "\n",
    "# Make src importable\n",
    "sys.path.append(str(proj_root / \"src\"))\n",
    "from utils import ensure_dir, get_summary_stats, groupby_mean, save_table, save_histogram\n",
    "\n",
    "ensure_dir(PROC_DIR)\n",
    "print(\"Project root:\", proj_root)\n",
    "print(\"Data dir:\", DATA_DIR)\n",
    "print(\"Processed dir:\", PROC_DIR)"
   ]
  },
  {
   "cell_type": "code",
   "execution_count": 3,
   "id": "5e43c0e4",
   "metadata": {},
   "outputs": [
    {
     "name": "stdout",
     "output_type": "stream",
     "text": [
      "126 ms ± 2.24 ms per loop (mean ± std. dev. of 7 runs, 10 loops each)\n",
      "2.39 ms ± 59.8 μs per loop (mean ± std. dev. of 7 runs, 100 loops each)\n"
     ]
    }
   ],
   "source": [
    "# Create array and elementwise operations\n",
    "arr = np.arange(10)        \n",
    "arr_double = arr * 2      \n",
    "arr_squared = arr ** 2\n",
    "arr, arr_double, arr_squared\n",
    "\n",
    "# Compare loop vs vectorized on a big array\n",
    "big = np.arange(1_000_000)\n",
    "\n",
    "# Python list comprehension (loop)\n",
    "%timeit [x * 2 for x in big]\n",
    "\n",
    "# NumPy vectorized\n",
    "%timeit big * 2"
   ]
  },
  {
   "cell_type": "code",
   "execution_count": 4,
   "id": "7fb6d0cf",
   "metadata": {},
   "outputs": [
    {
     "data": {
      "text/html": [
       "<div>\n",
       "<style scoped>\n",
       "    .dataframe tbody tr th:only-of-type {\n",
       "        vertical-align: middle;\n",
       "    }\n",
       "\n",
       "    .dataframe tbody tr th {\n",
       "        vertical-align: top;\n",
       "    }\n",
       "\n",
       "    .dataframe thead th {\n",
       "        text-align: right;\n",
       "    }\n",
       "</style>\n",
       "<table border=\"1\" class=\"dataframe\">\n",
       "  <thead>\n",
       "    <tr style=\"text-align: right;\">\n",
       "      <th></th>\n",
       "      <th>category</th>\n",
       "      <th>value</th>\n",
       "      <th>date</th>\n",
       "    </tr>\n",
       "  </thead>\n",
       "  <tbody>\n",
       "    <tr>\n",
       "      <th>0</th>\n",
       "      <td>A</td>\n",
       "      <td>10</td>\n",
       "      <td>2025-08-01</td>\n",
       "    </tr>\n",
       "    <tr>\n",
       "      <th>1</th>\n",
       "      <td>B</td>\n",
       "      <td>15</td>\n",
       "      <td>2025-08-02</td>\n",
       "    </tr>\n",
       "    <tr>\n",
       "      <th>2</th>\n",
       "      <td>A</td>\n",
       "      <td>12</td>\n",
       "      <td>2025-08-03</td>\n",
       "    </tr>\n",
       "    <tr>\n",
       "      <th>3</th>\n",
       "      <td>B</td>\n",
       "      <td>18</td>\n",
       "      <td>2025-08-04</td>\n",
       "    </tr>\n",
       "    <tr>\n",
       "      <th>4</th>\n",
       "      <td>C</td>\n",
       "      <td>25</td>\n",
       "      <td>2025-08-05</td>\n",
       "    </tr>\n",
       "  </tbody>\n",
       "</table>\n",
       "</div>"
      ],
      "text/plain": [
       "  category  value        date\n",
       "0        A     10  2025-08-01\n",
       "1        B     15  2025-08-02\n",
       "2        A     12  2025-08-03\n",
       "3        B     18  2025-08-04\n",
       "4        C     25  2025-08-05"
      ]
     },
     "metadata": {},
     "output_type": "display_data"
    },
    {
     "name": "stdout",
     "output_type": "stream",
     "text": [
      "<class 'pandas.core.frame.DataFrame'>\n",
      "RangeIndex: 10 entries, 0 to 9\n",
      "Data columns (total 3 columns):\n",
      " #   Column    Non-Null Count  Dtype \n",
      "---  ------    --------------  ----- \n",
      " 0   category  10 non-null     object\n",
      " 1   value     10 non-null     int64 \n",
      " 2   date      10 non-null     object\n",
      "dtypes: int64(1), object(2)\n",
      "memory usage: 372.0+ bytes\n"
     ]
    }
   ],
   "source": [
    "csv_path = DATA_DIR / \"starter_data.csv\"\n",
    "df = pd.read_csv(csv_path)\n",
    "\n",
    "display(df.head())  \n",
    "df.info()          "
   ]
  },
  {
   "cell_type": "code",
   "execution_count": 7,
   "id": "1ecd8a57",
   "metadata": {},
   "outputs": [
    {
     "data": {
      "text/html": [
       "<div>\n",
       "<style scoped>\n",
       "    .dataframe tbody tr th:only-of-type {\n",
       "        vertical-align: middle;\n",
       "    }\n",
       "\n",
       "    .dataframe tbody tr th {\n",
       "        vertical-align: top;\n",
       "    }\n",
       "\n",
       "    .dataframe thead th {\n",
       "        text-align: right;\n",
       "    }\n",
       "</style>\n",
       "<table border=\"1\" class=\"dataframe\">\n",
       "  <thead>\n",
       "    <tr style=\"text-align: right;\">\n",
       "      <th></th>\n",
       "      <th>value</th>\n",
       "    </tr>\n",
       "  </thead>\n",
       "  <tbody>\n",
       "    <tr>\n",
       "      <th>count</th>\n",
       "      <td>10.000000</td>\n",
       "    </tr>\n",
       "    <tr>\n",
       "      <th>mean</th>\n",
       "      <td>17.600000</td>\n",
       "    </tr>\n",
       "    <tr>\n",
       "      <th>std</th>\n",
       "      <td>7.381659</td>\n",
       "    </tr>\n",
       "    <tr>\n",
       "      <th>min</th>\n",
       "      <td>10.000000</td>\n",
       "    </tr>\n",
       "    <tr>\n",
       "      <th>25%</th>\n",
       "      <td>12.250000</td>\n",
       "    </tr>\n",
       "    <tr>\n",
       "      <th>50%</th>\n",
       "      <td>14.500000</td>\n",
       "    </tr>\n",
       "    <tr>\n",
       "      <th>75%</th>\n",
       "      <td>23.250000</td>\n",
       "    </tr>\n",
       "    <tr>\n",
       "      <th>max</th>\n",
       "      <td>30.000000</td>\n",
       "    </tr>\n",
       "  </tbody>\n",
       "</table>\n",
       "</div>"
      ],
      "text/plain": [
       "           value\n",
       "count  10.000000\n",
       "mean   17.600000\n",
       "std     7.381659\n",
       "min    10.000000\n",
       "25%    12.250000\n",
       "50%    14.500000\n",
       "75%    23.250000\n",
       "max    30.000000"
      ]
     },
     "execution_count": 7,
     "metadata": {},
     "output_type": "execute_result"
    }
   ],
   "source": [
    "def get_summary_stats(df: pd.DataFrame) -> pd.DataFrame:\n",
    "    \"\"\"Return numeric summary stats (count, mean, std, min, quartiles, max).\"\"\"\n",
    "    try:\n",
    "        # For newer pandas versions (>=1.5)\n",
    "        return df.describe(numeric_only=True)\n",
    "    except TypeError:\n",
    "        # For older pandas versions\n",
    "        return df.select_dtypes(include=\"number\").describe()\n",
    "\n",
    "summary_stats = get_summary_stats(df)\n",
    "summary_stats"
   ]
  },
  {
   "cell_type": "code",
   "execution_count": 8,
   "id": "c400fabc",
   "metadata": {},
   "outputs": [
    {
     "data": {
      "text/html": [
       "<div>\n",
       "<style scoped>\n",
       "    .dataframe tbody tr th:only-of-type {\n",
       "        vertical-align: middle;\n",
       "    }\n",
       "\n",
       "    .dataframe tbody tr th {\n",
       "        vertical-align: top;\n",
       "    }\n",
       "\n",
       "    .dataframe thead th {\n",
       "        text-align: right;\n",
       "    }\n",
       "</style>\n",
       "<table border=\"1\" class=\"dataframe\">\n",
       "  <thead>\n",
       "    <tr style=\"text-align: right;\">\n",
       "      <th></th>\n",
       "      <th>category</th>\n",
       "      <th>value</th>\n",
       "    </tr>\n",
       "  </thead>\n",
       "  <tbody>\n",
       "    <tr>\n",
       "      <th>0</th>\n",
       "      <td>A</td>\n",
       "      <td>11.500000</td>\n",
       "    </tr>\n",
       "    <tr>\n",
       "      <th>1</th>\n",
       "      <td>B</td>\n",
       "      <td>15.666667</td>\n",
       "    </tr>\n",
       "    <tr>\n",
       "      <th>2</th>\n",
       "      <td>C</td>\n",
       "      <td>27.666667</td>\n",
       "    </tr>\n",
       "  </tbody>\n",
       "</table>\n",
       "</div>"
      ],
      "text/plain": [
       "  category      value\n",
       "0        A  11.500000\n",
       "1        B  15.666667\n",
       "2        C  27.666667"
      ]
     },
     "execution_count": 8,
     "metadata": {},
     "output_type": "execute_result"
    }
   ],
   "source": [
    "by_col = \"category\" \n",
    "summary_by_cat = groupby_mean(df, by=by_col)\n",
    "summary_by_cat"
   ]
  },
  {
   "cell_type": "code",
   "execution_count": 9,
   "id": "b202d6dd",
   "metadata": {},
   "outputs": [
    {
     "name": "stdout",
     "output_type": "stream",
     "text": [
      "Saved plot: c:\\Users\\Tracy\\bootcamp_yuning_wang\\homework\\stage03_python-fundamentals\\data\\processed\\histogram.png\n"
     ]
    }
   ],
   "source": [
    "# Save tables\n",
    "save_table(summary_by_cat, PROC_DIR / \"summary.csv\", PROC_DIR / \"summary.json\")\n",
    "\n",
    "# Bonus: histogram of a numeric column\n",
    "num_col = \"value\"  # <-- change if needed\n",
    "if num_col in df.columns:\n",
    "    save_histogram(df[num_col], PROC_DIR / \"histogram.png\", title=f\"{num_col} distribution\")\n",
    "    print(\"Saved plot:\", PROC_DIR / \"histogram.png\")\n",
    "else:\n",
    "    print(f\"Column '{num_col}' not found; skipping histogram.\")"
   ]
  },
  {
   "cell_type": "code",
   "execution_count": 10,
   "id": "bd53650b",
   "metadata": {},
   "outputs": [
    {
     "name": "stdout",
     "output_type": "stream",
     "text": [
      "calc_mean_std called at 2025-08-20 09:12:08.413934\n"
     ]
    },
    {
     "data": {
      "text/plain": [
       "(np.float64(3.0), np.float64(1.4142135623730951))"
      ]
     },
     "execution_count": 10,
     "metadata": {},
     "output_type": "execute_result"
    }
   ],
   "source": [
    "from datetime import datetime\n",
    "\n",
    "def log_call(func):\n",
    "    def wrapper(*args, **kwargs):\n",
    "        print(f\"{func.__name__} called at {datetime.now()}\")\n",
    "        return func(*args, **kwargs)\n",
    "    return wrapper\n",
    "\n",
    "@log_call\n",
    "def calc_mean_std(values):\n",
    "    a = np.array(values)\n",
    "    return a.mean(), a.std()\n",
    "\n",
    "calc_mean_std([1,2,3,4,5])"
   ]
  },
  {
   "cell_type": "code",
   "execution_count": null,
   "id": "e81b40cb",
   "metadata": {},
   "outputs": [],
   "source": []
  }
 ],
 "metadata": {
  "kernelspec": {
   "display_name": "base",
   "language": "python",
   "name": "python3"
  },
  "language_info": {
   "codemirror_mode": {
    "name": "ipython",
    "version": 3
   },
   "file_extension": ".py",
   "mimetype": "text/x-python",
   "name": "python",
   "nbconvert_exporter": "python",
   "pygments_lexer": "ipython3",
   "version": "3.13.5"
  }
 },
 "nbformat": 4,
 "nbformat_minor": 5
}
