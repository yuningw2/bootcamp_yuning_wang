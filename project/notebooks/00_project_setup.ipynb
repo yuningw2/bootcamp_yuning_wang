{
 "cells": [
  {
   "cell_type": "markdown",
   "id": "036f7930",
   "metadata": {},
   "source": [
    "# Environment & Config Check"
   ]
  },
  {
   "cell_type": "code",
   "execution_count": null,
   "id": "d6998213",
   "metadata": {},
   "outputs": [],
   "source": [
    "from dotenv import load_dotenv\n",
    "import os\n",
    "import numpy as np\n",
    "\n",
    "# Load environment\n",
    "load_dotenv()\n",
    "\n",
    "# Check API_KEY\n",
    "api_key_exists = \"API_KEY\" in os.environ\n",
    "print(\"API_KEY present:\", api_key_exists)\n",
    "\n",
    "# NumPy demo\n",
    "arr = np.array([1, 2, 3])\n",
    "print(\"NumPy array sum:\", arr.sum())"
   ]
  }
 ],
 "metadata": {
  "kernelspec": {
   "display_name": "base",
   "language": "python",
   "name": "python3"
  },
  "language_info": {
   "name": "python",
   "version": "3.13.5"
  }
 },
 "nbformat": 4,
 "nbformat_minor": 5
}
